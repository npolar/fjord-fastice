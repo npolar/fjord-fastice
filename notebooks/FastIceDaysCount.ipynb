{
 "cells": [
  {
   "cell_type": "code",
   "execution_count": 1,
   "metadata": {
    "collapsed": false,
    "deletable": true,
    "editable": true
   },
   "outputs": [],
   "source": [
    "import netCDF4 as nc\n",
    "from matplotlib import pyplot as plt\n",
    "plt.ion()\n",
    "import numpy as np\n",
    "from netcdftime import utime\n",
    "import os\n",
    "import rasterio\n",
    "import shutil"
   ]
  },
  {
   "cell_type": "code",
   "execution_count": 2,
   "metadata": {
    "collapsed": true,
    "deletable": true,
    "editable": true
   },
   "outputs": [],
   "source": [
    "YEAR='2014'"
   ]
  },
  {
   "cell_type": "code",
   "execution_count": 3,
   "metadata": {
    "collapsed": false,
    "deletable": true,
    "editable": true
   },
   "outputs": [],
   "source": [
    "fname = nc.Dataset('../data/icecharts-{}/merged-icecharts-{}.nc'.format(YEAR, YEAR))"
   ]
  },
  {
   "cell_type": "code",
   "execution_count": 4,
   "metadata": {
    "collapsed": false,
    "deletable": true,
    "editable": true
   },
   "outputs": [],
   "source": [
    "fastice_dst = fname['ice_concentration'][:].astype(np.bool)"
   ]
  },
  {
   "cell_type": "code",
   "execution_count": 5,
   "metadata": {
    "collapsed": false,
    "deletable": true,
    "editable": true
   },
   "outputs": [],
   "source": [
    "tsmp = fname['time']\n",
    "cdftime = utime(tsmp.units)\n",
    "timestamps = cdftime.num2date(tsmp[:])"
   ]
  },
  {
   "cell_type": "code",
   "execution_count": 6,
   "metadata": {
    "collapsed": true,
    "deletable": true,
    "editable": true
   },
   "outputs": [],
   "source": [
    "def plot_nic(dst, outfile):\n",
    "    plt.clf()\n",
    "    plt.contour(dst, colors=['k'], levels=[-1], linestyles='solid')\n",
    "    plt.contourf(dst, colors=['#e6f2ff', 'blue', 'green', 'yellow', 'orange', 'red', 'gray'], levels=np.unique(dst))\n",
    "    plt.contourf(dst, colors=['white'], levels=[-1,-0.01])\n",
    "    plt.text(200, 50, outfile,\n",
    "        verticalalignment='bottom', horizontalalignment='right',\n",
    "        color='black', fontsize=25)\n",
    "    plt.savefig('nic'+outfile)"
   ]
  },
  {
   "cell_type": "code",
   "execution_count": 7,
   "metadata": {
    "collapsed": false,
    "deletable": true,
    "editable": true
   },
   "outputs": [],
   "source": [
    "def rle(inarray):\n",
    "        \"\"\" run length encoding. Partial credit to R rle function. \n",
    "            Multi datatype arrays catered for including non Numpy\n",
    "            returns: tuple (runlengths, startpositions, values) \"\"\"\n",
    "        ia = np.array(inarray)                  # force numpy\n",
    "        n = len(ia)\n",
    "        if n == 0: \n",
    "            return (None, None, None)\n",
    "        else:\n",
    "            y = np.array(ia[1:] != ia[:-1])     # pairwise unequal (string safe)\n",
    "            i = np.append(np.where(y), n - 1)   # must include last element posi\n",
    "            z = np.diff(np.append(-1, i))       # run lengths\n",
    "            p = np.cumsum(np.append(0, z))[:-1] # positions\n",
    "            return(z, p, ia[i])"
   ]
  },
  {
   "cell_type": "code",
   "execution_count": 8,
   "metadata": {
    "collapsed": false,
    "deletable": true,
    "editable": true
   },
   "outputs": [],
   "source": [
    "#pers = np.zeros(fastice_dst.shape[1::])\n",
    "#for i  in range(fastice_dst.shape[1]):\n",
    "#    for j in range(fastice_dst.shape[2]):\n",
    "#        o = rle(fastice_dst[:, i, j])\n",
    "#        try:\n",
    "##            pers[i,j] = o[0][o[2]][0]\n",
    "#        except:\n",
    "#            pass"
   ]
  },
  {
   "cell_type": "code",
   "execution_count": 9,
   "metadata": {
    "collapsed": false
   },
   "outputs": [],
   "source": [
    "count= np.zeros(fastice_dst.shape[1::])\n",
    "mask = np.ones(count.shape, dtype=np.bool)\n",
    "switch = np.ones(count.shape)\n",
    "for i in range(fastice_dst.shape[0]):\n",
    "    switch *= fastice_dst[i]\n",
    "    count += switch\n",
    "count = np.where(count<=1, 0, count)    "
   ]
  },
  {
   "cell_type": "code",
   "execution_count": 10,
   "metadata": {
    "collapsed": false,
    "deletable": true,
    "editable": true
   },
   "outputs": [],
   "source": [
    "#write rle to file\n",
    "import shutil\n",
    "template_tif = '/media/DataLocal/Projects/FjordIcePersistency/templates/svalbard_template.tif'\n",
    "ofile_tif = 'svalbard_fastice_persistency_{}.tif'.format(YEAR)\n",
    "shutil.copy(template_tif, ofile_tif)"
   ]
  },
  {
   "cell_type": "code",
   "execution_count": 11,
   "metadata": {
    "collapsed": false,
    "deletable": true,
    "editable": true
   },
   "outputs": [
    {
     "name": "stderr",
     "output_type": "stream",
     "text": [
      "/home/mikhail/.virtualenvs/fjordice/local/lib/python2.7/site-packages/rasterio/__init__.py:160: FutureWarning: GDAL-style transforms are deprecated and will not be supported in Rasterio 1.0.\n",
      "  transform = guard_transform(transform)\n"
     ]
    }
   ],
   "source": [
    "template = rasterio.open(template_tif, 'r')\n",
    "meta = template.meta.copy()\n",
    "\n",
    "with rasterio.open(ofile_tif, 'w', **meta) as dst:\n",
    "        dst.write((count/5.*7.).astype(rasterio.uint8), 1)"
   ]
  },
  {
   "cell_type": "code",
   "execution_count": 12,
   "metadata": {
    "collapsed": false
   },
   "outputs": [],
   "source": [
    "template.close()"
   ]
  },
  {
   "cell_type": "code",
   "execution_count": 13,
   "metadata": {
    "collapsed": false
   },
   "outputs": [
    {
     "data": {
      "text/plain": [
       "<matplotlib.colorbar.Colorbar at 0x7f4b6e834490>"
      ]
     },
     "execution_count": 13,
     "metadata": {},
     "output_type": "execute_result"
    },
    {
     "data": {
      "image/png": "[encoded data removed]",
      "text/plain": [
       "<matplotlib.figure.Figure at 0x7f4bfb037850>"
      ]
     },
     "metadata": {},
     "output_type": "display_data"
    }
   ],
   "source": [
    "plt.imshow(count-1); plt.colorbar()"
   ]
  },
  {
   "cell_type": "code",
   "execution_count": null,
   "metadata": {
    "collapsed": true
   },
   "outputs": [],
   "source": []
  }
 ],
 "metadata": {
  "kernelspec": {
   "display_name": "Python 2",
   "language": "python",
   "name": "python2"
  },
  "language_info": {
   "codemirror_mode": {
    "name": "ipython",
    "version": 2
   },
   "file_extension": ".py",
   "mimetype": "text/x-python",
   "name": "python",
   "nbconvert_exporter": "python",
   "pygments_lexer": "ipython2",
   "version": "2.7.12+"
  }
 },
 "nbformat": 4,
 "nbformat_minor": 2
}
